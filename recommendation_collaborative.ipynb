{
 "cells": [
  {
   "cell_type": "code",
   "execution_count": 28,
   "metadata": {},
   "outputs": [],
   "source": [
    "import os\n",
    "\n",
    "import pandas as pd\n",
    "import numpy as np\n",
    "\n",
    "from sklearn.metrics.pairwise import cosine_similarity\n",
    "from scipy import sparse"
   ]
  },
  {
   "cell_type": "code",
   "execution_count": 19,
   "metadata": {},
   "outputs": [
    {
     "data": {
      "text/plain": [
       "Index(['a perfect circle', 'abba', 'ac/dc', 'adam green', 'aerosmith', 'afi',\n",
       "       'air', 'alanis morissette', 'alexisonfire', 'alicia keys',\n",
       "       ...\n",
       "       'timbaland', 'tom waits', 'tool', 'tori amos', 'travis', 'trivium',\n",
       "       'u2', 'underoath', 'volbeat', 'yann tiersen'],\n",
       "      dtype='object', length=285)"
      ]
     },
     "execution_count": 19,
     "metadata": {},
     "output_type": "execute_result"
    }
   ],
   "source": [
    "os.chdir('D:/data_science/recommendation_ALS')\n",
    "data = pd.read_csv('lastfm.csv')\n",
    "data_items = data.drop(['user'],axis=1)\n",
    "data_items.columns"
   ]
  },
  {
   "cell_type": "code",
   "execution_count": 20,
   "metadata": {},
   "outputs": [
    {
     "data": {
      "text/html": [
       "<div>\n",
       "<style scoped>\n",
       "    .dataframe tbody tr th:only-of-type {\n",
       "        vertical-align: middle;\n",
       "    }\n",
       "\n",
       "    .dataframe tbody tr th {\n",
       "        vertical-align: top;\n",
       "    }\n",
       "\n",
       "    .dataframe thead th {\n",
       "        text-align: right;\n",
       "    }\n",
       "</style>\n",
       "<table border=\"1\" class=\"dataframe\">\n",
       "  <thead>\n",
       "    <tr style=\"text-align: right;\">\n",
       "      <th></th>\n",
       "      <th>a perfect circle</th>\n",
       "      <th>abba</th>\n",
       "      <th>ac/dc</th>\n",
       "      <th>adam green</th>\n",
       "      <th>aerosmith</th>\n",
       "      <th>afi</th>\n",
       "      <th>air</th>\n",
       "      <th>alanis morissette</th>\n",
       "      <th>alexisonfire</th>\n",
       "      <th>alicia keys</th>\n",
       "      <th>...</th>\n",
       "      <th>timbaland</th>\n",
       "      <th>tom waits</th>\n",
       "      <th>tool</th>\n",
       "      <th>tori amos</th>\n",
       "      <th>travis</th>\n",
       "      <th>trivium</th>\n",
       "      <th>u2</th>\n",
       "      <th>underoath</th>\n",
       "      <th>volbeat</th>\n",
       "      <th>yann tiersen</th>\n",
       "    </tr>\n",
       "  </thead>\n",
       "  <tbody>\n",
       "    <tr>\n",
       "      <th>0</th>\n",
       "      <td>0.0</td>\n",
       "      <td>0.0</td>\n",
       "      <td>0.0</td>\n",
       "      <td>0.000000</td>\n",
       "      <td>0.0</td>\n",
       "      <td>0.0</td>\n",
       "      <td>0.0</td>\n",
       "      <td>0.0</td>\n",
       "      <td>0.0</td>\n",
       "      <td>0.0</td>\n",
       "      <td>...</td>\n",
       "      <td>0.0</td>\n",
       "      <td>0.0</td>\n",
       "      <td>0.0</td>\n",
       "      <td>0.0</td>\n",
       "      <td>0.0</td>\n",
       "      <td>0.0</td>\n",
       "      <td>0.0</td>\n",
       "      <td>0.0</td>\n",
       "      <td>0.0</td>\n",
       "      <td>0.0</td>\n",
       "    </tr>\n",
       "    <tr>\n",
       "      <th>1</th>\n",
       "      <td>0.0</td>\n",
       "      <td>0.0</td>\n",
       "      <td>0.0</td>\n",
       "      <td>0.041667</td>\n",
       "      <td>0.0</td>\n",
       "      <td>0.0</td>\n",
       "      <td>0.0</td>\n",
       "      <td>0.0</td>\n",
       "      <td>0.0</td>\n",
       "      <td>0.0</td>\n",
       "      <td>...</td>\n",
       "      <td>0.0</td>\n",
       "      <td>0.0</td>\n",
       "      <td>0.0</td>\n",
       "      <td>0.0</td>\n",
       "      <td>0.0</td>\n",
       "      <td>0.0</td>\n",
       "      <td>0.0</td>\n",
       "      <td>0.0</td>\n",
       "      <td>0.0</td>\n",
       "      <td>0.0</td>\n",
       "    </tr>\n",
       "    <tr>\n",
       "      <th>2</th>\n",
       "      <td>0.0</td>\n",
       "      <td>0.0</td>\n",
       "      <td>0.0</td>\n",
       "      <td>0.000000</td>\n",
       "      <td>0.0</td>\n",
       "      <td>0.0</td>\n",
       "      <td>0.0</td>\n",
       "      <td>0.0</td>\n",
       "      <td>0.0</td>\n",
       "      <td>0.0</td>\n",
       "      <td>...</td>\n",
       "      <td>0.0</td>\n",
       "      <td>0.0</td>\n",
       "      <td>0.0</td>\n",
       "      <td>0.0</td>\n",
       "      <td>0.0</td>\n",
       "      <td>0.0</td>\n",
       "      <td>0.0</td>\n",
       "      <td>0.0</td>\n",
       "      <td>0.0</td>\n",
       "      <td>0.0</td>\n",
       "    </tr>\n",
       "    <tr>\n",
       "      <th>3</th>\n",
       "      <td>0.0</td>\n",
       "      <td>0.0</td>\n",
       "      <td>0.0</td>\n",
       "      <td>0.000000</td>\n",
       "      <td>0.0</td>\n",
       "      <td>0.0</td>\n",
       "      <td>0.0</td>\n",
       "      <td>0.0</td>\n",
       "      <td>0.0</td>\n",
       "      <td>0.0</td>\n",
       "      <td>...</td>\n",
       "      <td>0.0</td>\n",
       "      <td>0.0</td>\n",
       "      <td>0.0</td>\n",
       "      <td>0.0</td>\n",
       "      <td>0.0</td>\n",
       "      <td>0.0</td>\n",
       "      <td>0.0</td>\n",
       "      <td>0.0</td>\n",
       "      <td>0.0</td>\n",
       "      <td>0.0</td>\n",
       "    </tr>\n",
       "    <tr>\n",
       "      <th>4</th>\n",
       "      <td>0.0</td>\n",
       "      <td>0.0</td>\n",
       "      <td>0.0</td>\n",
       "      <td>0.000000</td>\n",
       "      <td>0.0</td>\n",
       "      <td>0.0</td>\n",
       "      <td>0.0</td>\n",
       "      <td>0.0</td>\n",
       "      <td>0.0</td>\n",
       "      <td>0.0</td>\n",
       "      <td>...</td>\n",
       "      <td>0.0</td>\n",
       "      <td>0.0</td>\n",
       "      <td>0.0</td>\n",
       "      <td>0.0</td>\n",
       "      <td>0.0</td>\n",
       "      <td>0.0</td>\n",
       "      <td>0.0</td>\n",
       "      <td>0.0</td>\n",
       "      <td>0.0</td>\n",
       "      <td>0.0</td>\n",
       "    </tr>\n",
       "  </tbody>\n",
       "</table>\n",
       "<p>5 rows × 285 columns</p>\n",
       "</div>"
      ],
      "text/plain": [
       "   a perfect circle  abba  ac/dc  adam green  aerosmith  afi  air  \\\n",
       "0               0.0   0.0    0.0    0.000000        0.0  0.0  0.0   \n",
       "1               0.0   0.0    0.0    0.041667        0.0  0.0  0.0   \n",
       "2               0.0   0.0    0.0    0.000000        0.0  0.0  0.0   \n",
       "3               0.0   0.0    0.0    0.000000        0.0  0.0  0.0   \n",
       "4               0.0   0.0    0.0    0.000000        0.0  0.0  0.0   \n",
       "\n",
       "   alanis morissette  alexisonfire  alicia keys      ...       timbaland  \\\n",
       "0                0.0           0.0          0.0      ...             0.0   \n",
       "1                0.0           0.0          0.0      ...             0.0   \n",
       "2                0.0           0.0          0.0      ...             0.0   \n",
       "3                0.0           0.0          0.0      ...             0.0   \n",
       "4                0.0           0.0          0.0      ...             0.0   \n",
       "\n",
       "   tom waits  tool  tori amos  travis  trivium   u2  underoath  volbeat  \\\n",
       "0        0.0   0.0        0.0     0.0      0.0  0.0        0.0      0.0   \n",
       "1        0.0   0.0        0.0     0.0      0.0  0.0        0.0      0.0   \n",
       "2        0.0   0.0        0.0     0.0      0.0  0.0        0.0      0.0   \n",
       "3        0.0   0.0        0.0     0.0      0.0  0.0        0.0      0.0   \n",
       "4        0.0   0.0        0.0     0.0      0.0  0.0        0.0      0.0   \n",
       "\n",
       "   yann tiersen  \n",
       "0           0.0  \n",
       "1           0.0  \n",
       "2           0.0  \n",
       "3           0.0  \n",
       "4           0.0  \n",
       "\n",
       "[5 rows x 285 columns]"
      ]
     },
     "execution_count": 20,
     "metadata": {},
     "output_type": "execute_result"
    }
   ],
   "source": [
    "#Normalization of data\n",
    "user_magnitude = np.sqrt(np.square(data_items)).sum(axis = 1)\n",
    "data_items = data_items.divide(user_magnitude, axis=0)\n",
    "data_items.head()"
   ]
  },
  {
   "cell_type": "code",
   "execution_count": 49,
   "metadata": {},
   "outputs": [],
   "source": [
    "#Cosine similarity fn\n",
    "def cosine_sim(data):\n",
    "    sparse_mat = sparse.csr_matrix(data)\n",
    "    csr=cosine_similarity(sparse_mat.transpose())\n",
    "    csr = pd.DataFrame(csr, index=data.columns, columns=data.columns)\n",
    "    return csr"
   ]
  },
  {
   "cell_type": "code",
   "execution_count": 50,
   "metadata": {},
   "outputs": [
    {
     "data": {
      "text/plain": [
       "(285, 285)"
      ]
     },
     "execution_count": 50,
     "metadata": {},
     "output_type": "execute_result"
    }
   ],
   "source": [
    "csr=cosine_sim(data_items)\n",
    "csr.shape"
   ]
  },
  {
   "cell_type": "code",
   "execution_count": 58,
   "metadata": {},
   "outputs": [
    {
     "name": "stdout",
     "output_type": "stream",
     "text": [
      "adam green        1.000000\n",
      "the strokes       0.201541\n",
      "arcade fire       0.189482\n",
      "amy winehouse     0.164834\n",
      "mgmt              0.162026\n",
      "the libertines    0.150996\n",
      "the smiths        0.147497\n",
      "air               0.142503\n",
      "cat power         0.138008\n",
      "babyshambles      0.093308\n",
      "travis            0.091858\n",
      "Name: adam green, dtype: float64\n"
     ]
    }
   ],
   "source": [
    "#11 similar artist of adam green\n",
    "print(csr['adam green'].sort_values(axis=0, ascending=False, inplace=False, kind='quicksort', na_position='last')[0:11])"
   ]
  },
  {
   "cell_type": "code",
   "execution_count": 96,
   "metadata": {},
   "outputs": [
    {
     "name": "stderr",
     "output_type": "stream",
     "text": [
      "C:\\Users\\Sourish\\Anaconda3\\lib\\site-packages\\ipykernel_launcher.py:2: DeprecationWarning: \n",
      ".ix is deprecated. Please use\n",
      ".loc for label based indexing or\n",
      ".iloc for positional indexing\n",
      "\n",
      "See the documentation here:\n",
      "http://pandas.pydata.org/pandas-docs/stable/indexing.html#ix-indexer-is-deprecated\n",
      "  \n",
      "C:\\Users\\Sourish\\Anaconda3\\lib\\site-packages\\ipykernel_launcher.py:5: DeprecationWarning: \n",
      ".ix is deprecated. Please use\n",
      ".loc for label based indexing or\n",
      ".iloc for positional indexing\n",
      "\n",
      "See the documentation here:\n",
      "http://pandas.pydata.org/pandas-docs/stable/indexing.html#ix-indexer-is-deprecated\n",
      "  \"\"\"\n"
     ]
    }
   ],
   "source": [
    "#top reccomadation for user 5985\n",
    "index = data.ix[data.user == 5985].index.tolist()[0]\n",
    "known_rating = data_items.iloc[index]\n",
    "known_rating = known_rating[known_rating>0].index.tolist()\n",
    "user_vector = data_items.ix[index]"
   ]
  },
  {
   "cell_type": "code",
   "execution_count": 102,
   "metadata": {},
   "outputs": [
    {
     "data": {
      "text/plain": [
       "the cure           0.5\n",
       "bob dylan          0.5\n",
       "franz ferdinand    0.0\n",
       "frank sinatra      0.0\n",
       "foo fighters       0.0\n",
       "flyleaf            0.0\n",
       "flogging molly     0.0\n",
       "finntroll          0.0\n",
       "feist              0.0\n",
       "deichkind          0.0\n",
       "Name: 358, dtype: float64"
      ]
     },
     "execution_count": 102,
     "metadata": {},
     "output_type": "execute_result"
    }
   ],
   "source": [
    "user_vector.sort_values(axis=0, ascending=False, inplace=False, kind='quicksort', na_position='last')[0:10]"
   ]
  },
  {
   "cell_type": "code",
   "execution_count": 103,
   "metadata": {},
   "outputs": [
    {
     "data": {
      "text/plain": [
       "(283,)"
      ]
     },
     "execution_count": 103,
     "metadata": {},
     "output_type": "execute_result"
    }
   ],
   "source": [
    "#score for user 543\n",
    "score = csr.dot(user_vector).div(csr.sum(axis=1))\n",
    "score=score.drop(known_rating)\n",
    "score.shape"
   ]
  },
  {
   "cell_type": "code",
   "execution_count": 104,
   "metadata": {},
   "outputs": [
    {
     "name": "stdout",
     "output_type": "stream",
     "text": [
      "misfits                0.026892\n",
      "yann tiersen           0.022047\n",
      "the rolling stones     0.019868\n",
      "the smiths             0.019472\n",
      "joy division           0.018722\n",
      "ramones                0.017025\n",
      "johnny cash            0.015238\n",
      "belle and sebastian    0.014390\n",
      "tom waits              0.013955\n",
      "eric clapton           0.012551\n",
      "dtype: float64\n"
     ]
    }
   ],
   "source": [
    "print(score.sort_values(axis=0, ascending=False, inplace=False, kind='quicksort', na_position='last')[0:10])"
   ]
  },
  {
   "cell_type": "code",
   "execution_count": 133,
   "metadata": {},
   "outputs": [
    {
     "data": {
      "text/html": [
       "<div>\n",
       "<style scoped>\n",
       "    .dataframe tbody tr th:only-of-type {\n",
       "        vertical-align: middle;\n",
       "    }\n",
       "\n",
       "    .dataframe tbody tr th {\n",
       "        vertical-align: top;\n",
       "    }\n",
       "\n",
       "    .dataframe thead th {\n",
       "        text-align: right;\n",
       "    }\n",
       "</style>\n",
       "<table border=\"1\" class=\"dataframe\">\n",
       "  <thead>\n",
       "    <tr style=\"text-align: right;\">\n",
       "      <th></th>\n",
       "      <th>1</th>\n",
       "      <th>2</th>\n",
       "      <th>3</th>\n",
       "      <th>4</th>\n",
       "      <th>5</th>\n",
       "      <th>6</th>\n",
       "      <th>7</th>\n",
       "      <th>8</th>\n",
       "      <th>9</th>\n",
       "      <th>10</th>\n",
       "    </tr>\n",
       "  </thead>\n",
       "  <tbody>\n",
       "    <tr>\n",
       "      <th>a perfect circle</th>\n",
       "      <td>dredg</td>\n",
       "      <td>tool</td>\n",
       "      <td>deftones</td>\n",
       "      <td>porcupine tree</td>\n",
       "      <td>opeth</td>\n",
       "      <td>godsmack</td>\n",
       "      <td>editors</td>\n",
       "      <td>massive attack</td>\n",
       "      <td>system of a down</td>\n",
       "      <td>tenacious d</td>\n",
       "    </tr>\n",
       "    <tr>\n",
       "      <th>abba</th>\n",
       "      <td>michael jackson</td>\n",
       "      <td>elvis presley</td>\n",
       "      <td>robbie williams</td>\n",
       "      <td>the ting tings</td>\n",
       "      <td>frank sinatra</td>\n",
       "      <td>queen</td>\n",
       "      <td>the beatles</td>\n",
       "      <td>duffy</td>\n",
       "      <td>james blunt</td>\n",
       "      <td>madonna</td>\n",
       "    </tr>\n",
       "    <tr>\n",
       "      <th>ac/dc</th>\n",
       "      <td>opeth</td>\n",
       "      <td>rage against the machine</td>\n",
       "      <td>judas priest</td>\n",
       "      <td>dream theater</td>\n",
       "      <td>deep purple</td>\n",
       "      <td>nightwish</td>\n",
       "      <td>kreator</td>\n",
       "      <td>aerosmith</td>\n",
       "      <td>peter fox</td>\n",
       "      <td>metallica</td>\n",
       "    </tr>\n",
       "    <tr>\n",
       "      <th>adam green</th>\n",
       "      <td>the strokes</td>\n",
       "      <td>arcade fire</td>\n",
       "      <td>amy winehouse</td>\n",
       "      <td>mgmt</td>\n",
       "      <td>the libertines</td>\n",
       "      <td>the smiths</td>\n",
       "      <td>air</td>\n",
       "      <td>cat power</td>\n",
       "      <td>babyshambles</td>\n",
       "      <td>travis</td>\n",
       "    </tr>\n",
       "    <tr>\n",
       "      <th>aerosmith</th>\n",
       "      <td>pink</td>\n",
       "      <td>metallica</td>\n",
       "      <td>dire straits</td>\n",
       "      <td>jack johnson</td>\n",
       "      <td>judas priest</td>\n",
       "      <td>lenny kravitz</td>\n",
       "      <td>oasis</td>\n",
       "      <td>ac/dc</td>\n",
       "      <td>u2</td>\n",
       "      <td>linkin park</td>\n",
       "    </tr>\n",
       "  </tbody>\n",
       "</table>\n",
       "</div>"
      ],
      "text/plain": [
       "                               1                         2                3   \\\n",
       "a perfect circle            dredg                      tool         deftones   \n",
       "abba              michael jackson             elvis presley  robbie williams   \n",
       "ac/dc                       opeth  rage against the machine     judas priest   \n",
       "adam green            the strokes               arcade fire    amy winehouse   \n",
       "aerosmith                    pink                 metallica     dire straits   \n",
       "\n",
       "                              4               5              6            7   \\\n",
       "a perfect circle  porcupine tree           opeth       godsmack      editors   \n",
       "abba              the ting tings   frank sinatra          queen  the beatles   \n",
       "ac/dc              dream theater     deep purple      nightwish      kreator   \n",
       "adam green                  mgmt  the libertines     the smiths          air   \n",
       "aerosmith           jack johnson    judas priest  lenny kravitz        oasis   \n",
       "\n",
       "                              8                 9            10  \n",
       "a perfect circle  massive attack  system of a down  tenacious d  \n",
       "abba                       duffy       james blunt      madonna  \n",
       "ac/dc                  aerosmith         peter fox    metallica  \n",
       "adam green             cat power      babyshambles       travis  \n",
       "aerosmith                  ac/dc                u2  linkin park  "
      ]
     },
     "execution_count": 133,
     "metadata": {},
     "output_type": "execute_result"
    }
   ],
   "source": [
    "#Neighbourhood method- only focus on 10 similar nighbour of eache item\n",
    "neighbour_data = pd.DataFrame(index=csr.columns,columns=range(1,11))\n",
    "for i in range(csr.shape[1]):\n",
    "    neighbour_data.iloc[i,:] = csr.iloc[i].sort_values(axis=0, ascending=False, inplace=False, kind='quicksort', na_position='last')[1:11].index\n",
    "neighbour_data.head()    "
   ]
  },
  {
   "cell_type": "code",
   "execution_count": 146,
   "metadata": {},
   "outputs": [],
   "source": [
    "similar_list = neighbour_data.loc[known_rating].values.tolist()"
   ]
  },
  {
   "cell_type": "code",
   "execution_count": 156,
   "metadata": {},
   "outputs": [],
   "source": [
    "similar_list = list(set(item for sublist in similar_list for item in sublist))"
   ]
  },
  {
   "cell_type": "code",
   "execution_count": 173,
   "metadata": {},
   "outputs": [
    {
     "data": {
      "text/plain": [
       "jimi hendrix           0.021535\n",
       "johnny cash            0.055688\n",
       "the rolling stones     0.057601\n",
       "led zeppelin           0.027008\n",
       "misfits                0.062199\n",
       "elliott smith          0.032531\n",
       "deep purple            0.021141\n",
       "belle and sebastian    0.050243\n",
       "ramones                0.062286\n",
       "eric clapton           0.033045\n",
       "depeche mode           0.020118\n",
       "pink floyd             0.029004\n",
       "the smiths             0.063273\n",
       "joy division           0.043810\n",
       "the doors              0.022966\n",
       "tom waits              0.042341\n",
       "yann tiersen           0.064849\n",
       "dtype: float64"
      ]
     },
     "execution_count": 173,
     "metadata": {},
     "output_type": "execute_result"
    }
   ],
   "source": [
    "neighbour = csr[similar_list].loc[similar_list]\n",
    "user_vector = data_items.iloc[index].loc[similar_list]\n",
    "score = neighbour.dot(user_vector).div(neighbour.sum(axis=1))\n",
    "score = score.drop(known_rating)\n",
    "print(score.sort_values(axis=0,ascending=False,kind='quicksort', na_position='last')[0:10])"
   ]
  },
  {
   "cell_type": "code",
   "execution_count": 176,
   "metadata": {},
   "outputs": [
    {
     "name": "stdout",
     "output_type": "stream",
     "text": [
      "yann tiersen           0.064849\n",
      "the smiths             0.063273\n",
      "ramones                0.062286\n",
      "misfits                0.062199\n",
      "the rolling stones     0.057601\n",
      "johnny cash            0.055688\n",
      "belle and sebastian    0.050243\n",
      "joy division           0.043810\n",
      "tom waits              0.042341\n",
      "eric clapton           0.033045\n",
      "dtype: float64\n",
      "yann tiersen           0.064849\n",
      "the smiths             0.063273\n",
      "ramones                0.062286\n",
      "misfits                0.062199\n",
      "the rolling stones     0.057601\n",
      "johnny cash            0.055688\n",
      "belle and sebastian    0.050243\n",
      "joy division           0.043810\n",
      "tom waits              0.042341\n",
      "eric clapton           0.033045\n",
      "dtype: float64\n"
     ]
    }
   ],
   "source": [
    "print(score.sort_values(axis=0,ascending=False,kind='quicksort', na_position='last')[0:10])\n",
    "print(score.nlargest(10))"
   ]
  },
  {
   "cell_type": "code",
   "execution_count": 180,
   "metadata": {},
   "outputs": [],
   "source": [
    "#ALS method collaborative filtering\n",
    "#import implicit\n",
    "als_data = pd.read_table('lastfm-dataset-360K/usersha1-artmbid-artname-plays.tsv')"
   ]
  },
  {
   "cell_type": "code",
   "execution_count": 186,
   "metadata": {},
   "outputs": [
    {
     "data": {
      "text/html": [
       "<div>\n",
       "<style scoped>\n",
       "    .dataframe tbody tr th:only-of-type {\n",
       "        vertical-align: middle;\n",
       "    }\n",
       "\n",
       "    .dataframe tbody tr th {\n",
       "        vertical-align: top;\n",
       "    }\n",
       "\n",
       "    .dataframe thead th {\n",
       "        text-align: right;\n",
       "    }\n",
       "</style>\n",
       "<table border=\"1\" class=\"dataframe\">\n",
       "  <thead>\n",
       "    <tr style=\"text-align: right;\">\n",
       "      <th></th>\n",
       "      <th>user</th>\n",
       "      <th>artist</th>\n",
       "      <th>item</th>\n",
       "    </tr>\n",
       "  </thead>\n",
       "  <tbody>\n",
       "    <tr>\n",
       "      <th>0</th>\n",
       "      <td>00000c289a1829a808ac09c00daf10bc3c4e223b</td>\n",
       "      <td>die Ärzte</td>\n",
       "      <td>1099</td>\n",
       "    </tr>\n",
       "    <tr>\n",
       "      <th>1</th>\n",
       "      <td>00000c289a1829a808ac09c00daf10bc3c4e223b</td>\n",
       "      <td>melissa etheridge</td>\n",
       "      <td>897</td>\n",
       "    </tr>\n",
       "    <tr>\n",
       "      <th>2</th>\n",
       "      <td>00000c289a1829a808ac09c00daf10bc3c4e223b</td>\n",
       "      <td>elvenking</td>\n",
       "      <td>717</td>\n",
       "    </tr>\n",
       "    <tr>\n",
       "      <th>3</th>\n",
       "      <td>00000c289a1829a808ac09c00daf10bc3c4e223b</td>\n",
       "      <td>juliette &amp; the licks</td>\n",
       "      <td>706</td>\n",
       "    </tr>\n",
       "    <tr>\n",
       "      <th>4</th>\n",
       "      <td>00000c289a1829a808ac09c00daf10bc3c4e223b</td>\n",
       "      <td>red hot chili peppers</td>\n",
       "      <td>691</td>\n",
       "    </tr>\n",
       "  </tbody>\n",
       "</table>\n",
       "</div>"
      ],
      "text/plain": [
       "                                       user                 artist  item\n",
       "0  00000c289a1829a808ac09c00daf10bc3c4e223b              die Ärzte  1099\n",
       "1  00000c289a1829a808ac09c00daf10bc3c4e223b      melissa etheridge   897\n",
       "2  00000c289a1829a808ac09c00daf10bc3c4e223b              elvenking   717\n",
       "3  00000c289a1829a808ac09c00daf10bc3c4e223b   juliette & the licks   706\n",
       "4  00000c289a1829a808ac09c00daf10bc3c4e223b  red hot chili peppers   691"
      ]
     },
     "execution_count": 186,
     "metadata": {},
     "output_type": "execute_result"
    }
   ],
   "source": [
    "import implicit\n",
    "als_data = als_data.drop(als_data.columns[1], axis=1)\n",
    "als_data.columns = ['user','artist','item']\n",
    "als_data.head()"
   ]
  },
  {
   "cell_type": "code",
   "execution_count": 198,
   "metadata": {},
   "outputs": [],
   "source": [
    "als_data['item'] = als_data['item'].astype('int')"
   ]
  },
  {
   "cell_type": "code",
   "execution_count": 199,
   "metadata": {},
   "outputs": [],
   "source": [
    "#Data preprocess\n",
    "als_data = als_data.dropna()\n",
    "als_data.shape\n",
    "als_data['user'] = als_data['user'].astype('category')\n",
    "als_data['artist'] = als_data['artist'].astype('category') \n",
    "als_data['user_id'] = als_data['user'].cat.codes\n",
    "als_data['artist_id'] = als_data['artist'].cat.codes"
   ]
  },
  {
   "cell_type": "code",
   "execution_count": 201,
   "metadata": {},
   "outputs": [],
   "source": [
    "#sparse matrix prep- user-item for recommendation and item-user for model building\n",
    "sparse_item_user = sparse.csr_matrix((als_data['item'].astype(float), (als_data['artist_id'], als_data['user_id'])))\n",
    "sparse_user_item = sparse.csr_matrix((als_data['item'].astype(float), (als_data['user_id'], als_data['artist_id'])))"
   ]
  },
  {
   "cell_type": "code",
   "execution_count": 207,
   "metadata": {},
   "outputs": [
    {
     "name": "stderr",
     "output_type": "stream",
     "text": [
      "WARNING:root:OpenBLAS detected. Its highly recommend to set the environment variable 'export OPENBLAS_NUM_THREADS=1' to disable its internal multithreading\n"
     ]
    }
   ],
   "source": [
    "mod = implicit.als.AlternatingLeastSquares(factors=20, regularization=0.1, iterations=20)"
   ]
  },
  {
   "cell_type": "code",
   "execution_count": 211,
   "metadata": {},
   "outputs": [
    {
     "name": "stderr",
     "output_type": "stream",
     "text": [
      "100%|████████████████████████████████████████████████████████████████████████████████| 20.0/20 [01:02<00:00,  3.24s/it]\n"
     ]
    }
   ],
   "source": [
    "alpha = 15\n",
    "conf = (sparse_item_user * alpha).astype('double')\n",
    "mod.fit(conf,show_progress=True)"
   ]
  },
  {
   "cell_type": "code",
   "execution_count": 221,
   "metadata": {},
   "outputs": [],
   "source": [
    "# Find the 10 most similar to Jay-Z\n",
    "item_id = 147068 #Jay-Z\n",
    "n_similar = 10\n",
    "user_vec = mod.user_factors\n",
    "item_vec = mod.item_factors"
   ]
  },
  {
   "cell_type": "code",
   "execution_count": 231,
   "metadata": {},
   "outputs": [
    {
     "data": {
      "text/plain": [
       "(292363,)"
      ]
     },
     "execution_count": 231,
     "metadata": {},
     "output_type": "execute_result"
    }
   ],
   "source": [
    "item_norm = np.sqrt(np.square(item_vec)).sum(axis = 1)\n",
    "score = item_vec.dot(item_vec[item_id])/item_norm"
   ]
  },
  {
   "cell_type": "code",
   "execution_count": 243,
   "metadata": {},
   "outputs": [
    {
     "name": "stdout",
     "output_type": "stream",
     "text": [
      "jay-z\n",
      "snoop dogg\n",
      "outkast\n",
      "2pac\n",
      "lupe fiasco\n",
      "50 cent\n",
      "the roots\n",
      "the streets\n",
      "cypress hill\n",
      "atmosphere\n"
     ]
    }
   ],
   "source": [
    "#similar items\n",
    "similar = mod.similar_items(N=10,itemid=item_id)\n",
    "for item in similar:\n",
    "    idx,score = item\n",
    "    print(als_data.artist.loc[als_data.artist_id == idx].iloc[0])"
   ]
  },
  {
   "cell_type": "code",
   "execution_count": 247,
   "metadata": {},
   "outputs": [],
   "source": [
    "#Recommendation for user\n",
    "user_id = 2025\n",
    "reco = mod.recommend(user_items=sparse_user_item,userid=user_id,N=10,filter_already_liked_items=True)"
   ]
  },
  {
   "cell_type": "code",
   "execution_count": 253,
   "metadata": {},
   "outputs": [
    {
     "data": {
      "text/html": [
       "<div>\n",
       "<style scoped>\n",
       "    .dataframe tbody tr th:only-of-type {\n",
       "        vertical-align: middle;\n",
       "    }\n",
       "\n",
       "    .dataframe tbody tr th {\n",
       "        vertical-align: top;\n",
       "    }\n",
       "\n",
       "    .dataframe thead th {\n",
       "        text-align: right;\n",
       "    }\n",
       "</style>\n",
       "<table border=\"1\" class=\"dataframe\">\n",
       "  <thead>\n",
       "    <tr style=\"text-align: right;\">\n",
       "      <th></th>\n",
       "      <th>artist</th>\n",
       "      <th>scores</th>\n",
       "    </tr>\n",
       "  </thead>\n",
       "  <tbody>\n",
       "    <tr>\n",
       "      <th>0</th>\n",
       "      <td>sly &amp; the family stone</td>\n",
       "      <td>1.165822</td>\n",
       "    </tr>\n",
       "    <tr>\n",
       "      <th>1</th>\n",
       "      <td>brian wilson</td>\n",
       "      <td>1.148287</td>\n",
       "    </tr>\n",
       "    <tr>\n",
       "      <th>2</th>\n",
       "      <td>thelonious monk</td>\n",
       "      <td>1.126216</td>\n",
       "    </tr>\n",
       "    <tr>\n",
       "      <th>3</th>\n",
       "      <td>curtis mayfield</td>\n",
       "      <td>1.125114</td>\n",
       "    </tr>\n",
       "    <tr>\n",
       "      <th>4</th>\n",
       "      <td>funkadelic</td>\n",
       "      <td>1.122609</td>\n",
       "    </tr>\n",
       "    <tr>\n",
       "      <th>5</th>\n",
       "      <td>duke ellington</td>\n",
       "      <td>1.120699</td>\n",
       "    </tr>\n",
       "    <tr>\n",
       "      <th>6</th>\n",
       "      <td>sam cooke</td>\n",
       "      <td>1.117824</td>\n",
       "    </tr>\n",
       "    <tr>\n",
       "      <th>7</th>\n",
       "      <td>robert johnson</td>\n",
       "      <td>1.116980</td>\n",
       "    </tr>\n",
       "    <tr>\n",
       "      <th>8</th>\n",
       "      <td>neil young &amp; crazy horse</td>\n",
       "      <td>1.113636</td>\n",
       "    </tr>\n",
       "    <tr>\n",
       "      <th>9</th>\n",
       "      <td>drive-by truckers</td>\n",
       "      <td>1.110915</td>\n",
       "    </tr>\n",
       "  </tbody>\n",
       "</table>\n",
       "</div>"
      ],
      "text/plain": [
       "                     artist    scores\n",
       "0    sly & the family stone  1.165822\n",
       "1              brian wilson  1.148287\n",
       "2           thelonious monk  1.126216\n",
       "3           curtis mayfield  1.125114\n",
       "4                funkadelic  1.122609\n",
       "5            duke ellington  1.120699\n",
       "6                 sam cooke  1.117824\n",
       "7            robert johnson  1.116980\n",
       "8  neil young & crazy horse  1.113636\n",
       "9         drive-by truckers  1.110915"
      ]
     },
     "execution_count": 253,
     "metadata": {},
     "output_type": "execute_result"
    }
   ],
   "source": [
    "artist = []\n",
    "scores = []\n",
    "\n",
    "for item in reco:\n",
    "    idx, score = item\n",
    "    artist.append(als_data.artist.loc[als_data.artist_id == idx].iloc[0])\n",
    "    scores.append(score)\n",
    "\n",
    "recommended=pd.DataFrame({'artist':artist, 'scores':scores})\n",
    "recommended.sort_values(ascending=False,axis=0,by='scores',kind='quicksort',na_position='last',inplace=False)\n",
    "recommended"
   ]
  },
  {
   "cell_type": "code",
   "execution_count": 251,
   "metadata": {},
   "outputs": [
    {
     "data": {
      "text/plain": [
       "'drive-by truckers'"
      ]
     },
     "execution_count": 251,
     "metadata": {},
     "output_type": "execute_result"
    }
   ],
   "source": [
    "(als_data.artist.loc[als_data.artist_id == idx].iloc[0])"
   ]
  },
  {
   "cell_type": "code",
   "execution_count": null,
   "metadata": {},
   "outputs": [],
   "source": []
  }
 ],
 "metadata": {
  "kernelspec": {
   "display_name": "Python 3",
   "language": "python",
   "name": "python3"
  },
  "language_info": {
   "codemirror_mode": {
    "name": "ipython",
    "version": 3
   },
   "file_extension": ".py",
   "mimetype": "text/x-python",
   "name": "python",
   "nbconvert_exporter": "python",
   "pygments_lexer": "ipython3",
   "version": "3.6.5"
  }
 },
 "nbformat": 4,
 "nbformat_minor": 2
}
